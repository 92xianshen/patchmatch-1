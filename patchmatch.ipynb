{
 "metadata": {
  "name": "",
  "signature": "sha256:cd248388c2bb2308eddb5fd03c77bf0de5c7cb8a3ef19d7cfa3994a1399952c5"
 },
 "nbformat": 3,
 "nbformat_minor": 0,
 "worksheets": [
  {
   "cells": [
    {
     "cell_type": "code",
     "collapsed": false,
     "input": [
      "import pybug.io as pio\n",
      "from pybug.image import Image\n",
      "from patchmatch import *"
     ],
     "language": "python",
     "metadata": {},
     "outputs": []
    },
    {
     "cell_type": "code",
     "collapsed": false,
     "input": [
      "takeo = pio.import_builtin_asset('takeo.ppm').as_greyscale()\n",
      "img = takeo.pixels[..., 0]"
     ],
     "language": "python",
     "metadata": {},
     "outputs": []
    },
    {
     "cell_type": "code",
     "collapsed": false,
     "input": [
      "%matplotlib inline\n",
      "takeo.view()"
     ],
     "language": "python",
     "metadata": {},
     "outputs": []
    },
    {
     "cell_type": "code",
     "collapsed": false,
     "input": [
      "f = patchmatch(img, img)\n",
      "b_rebuilt = Image(rebuild_img(f, img, img))"
     ],
     "language": "python",
     "metadata": {},
     "outputs": []
    }
   ],
   "metadata": {}
  }
 ]
}